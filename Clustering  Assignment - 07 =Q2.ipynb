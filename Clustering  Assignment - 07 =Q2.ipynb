{
 "cells": [
  {
   "cell_type": "markdown",
   "id": "8789e948",
   "metadata": {},
   "source": [
    "# Q2\n",
    "Perform Clustering for the crime data and identify the number of clusters formed and draw inferences"
   ]
  },
  {
   "cell_type": "markdown",
   "id": "40ff9db3",
   "metadata": {},
   "source": [
    "# Required Libraries"
   ]
  },
  {
   "cell_type": "code",
   "execution_count": null,
   "id": "1bfa9ef1",
   "metadata": {},
   "outputs": [],
   "source": [
    "import pandas as pd\n",
    "import numpy as np\n",
    "from matplotlib import pyplot as plt\n",
    "from sklearn.cluster import KMeans\n",
    "from sklearn.preprocessing import StandardScaler\n",
    "from sklearn import preprocessing\n",
    "import seaborn as sns"
   ]
  },
  {
   "cell_type": "code",
   "execution_count": null,
   "id": "7760c718",
   "metadata": {},
   "outputs": [],
   "source": [
    "crime=pd.read_csv(\"crime_data.csv\")\n",
    "crime.head()"
   ]
  },
  {
   "cell_type": "code",
   "execution_count": null,
   "id": "6393c0b8",
   "metadata": {},
   "outputs": [],
   "source": [
    "df1=crime.copy()"
   ]
  },
  {
   "cell_type": "code",
   "execution_count": null,
   "id": "159da20d",
   "metadata": {},
   "outputs": [],
   "source": [
    "df1.columns = ['City','Murder' , 'Assault', 'Urbanpop','Rape']"
   ]
  },
  {
   "cell_type": "code",
   "execution_count": null,
   "id": "54f2f1ce",
   "metadata": {},
   "outputs": [],
   "source": [
    "df1.loc[:,'Total'] = df1.sum(numeric_only=True, axis=1)\n",
    "df1.head()"
   ]
  },
  {
   "cell_type": "code",
   "execution_count": null,
   "id": "e831d457",
   "metadata": {},
   "outputs": [],
   "source": [
    "df1.describe()"
   ]
  },
  {
   "cell_type": "code",
   "execution_count": null,
   "id": "24762161",
   "metadata": {},
   "outputs": [],
   "source": [
    "f, ax = plt.subplots(figsize=(16, 10))\n",
    "\n",
    "stats = df1.sort_values(\"Total\", ascending=False)\n",
    "\n",
    "sns.set_color_codes(\"pastel\")\n",
    "\n",
    "sns.barplot(x=\"Total\", y=\"City\", data=stats,\n",
    "            label=\"Total\", color=\"g\")\n",
    "\n",
    "sns.barplot(x=\"Assault\", y=\"City\", data=stats,\n",
    "            label=\"Assault\", color=\"b\")\n",
    "\n",
    "sns.barplot(x=\"Rape\", y=\"City\", data=stats,\n",
    "            label=\"Rape\", color=\"y\")\n",
    "\n",
    "sns.barplot(x=\"Murder\", y=\"City\", data=stats,\n",
    "            label=\"Murder\", color=\"r\")\n",
    "\n",
    "ax.legend(ncol=2, loc=\"lower right\", frameon=True)\n",
    "ax.set(xlim=(0, 400), ylabel=\"City\",\n",
    "       xlabel=\"Nr of arrests for each crime\");"
   ]
  },
  {
   "cell_type": "code",
   "execution_count": null,
   "id": "0276e6fe",
   "metadata": {},
   "outputs": [],
   "source": [
    "plt.scatter(df1.City, df1.Murder, color='r')\n",
    "plt.scatter(df1.City, df1.Assault, color='g')\n",
    "plt.scatter(df1.City, df1.Urbanpop, color='b')\n",
    "plt.scatter(df1.City, df1.Rape, color='y')\n",
    "plt.xlabel('city')\n",
    "plt.ylabel('rate')\n",
    "plt.show()\n"
   ]
  },
  {
   "cell_type": "markdown",
   "id": "7f12c9bb",
   "metadata": {},
   "source": [
    "# Finding out the optimal number of clusters"
   ]
  },
  {
   "cell_type": "code",
   "execution_count": null,
   "id": "2b70b73d",
   "metadata": {},
   "outputs": [],
   "source": [
    "X = df1[['Murder', 'Assault', 'Rape', 'Urbanpop']]"
   ]
  },
  {
   "cell_type": "code",
   "execution_count": null,
   "id": "9bf82f59",
   "metadata": {},
   "outputs": [],
   "source": [
    "df1_norm = preprocessing.scale(X)"
   ]
  },
  {
   "cell_type": "code",
   "execution_count": null,
   "id": "1b0671eb",
   "metadata": {},
   "outputs": [],
   "source": [
    "df1_norm = pd.DataFrame(df1_norm) #standardize the data to normal distribution"
   ]
  },
  {
   "cell_type": "code",
   "execution_count": null,
   "id": "1c46121e",
   "metadata": {},
   "outputs": [],
   "source": [
    "df1_norm.head()"
   ]
  },
  {
   "cell_type": "code",
   "execution_count": null,
   "id": "a405c7cd",
   "metadata": {},
   "outputs": [],
   "source": [
    "plt.figure(figsize=(10, 8))\n",
    "wcss = []\n",
    "for i in range(1, 15):\n",
    "    kmeans = KMeans(n_clusters = i, init = 'k-means++', random_state = 42)\n",
    "    kmeans.fit(df1_norm)\n",
    "    wcss.append(kmeans.inertia_)\n",
    "plt.plot(range(1, 15), wcss)\n",
    "plt.title('The Elbow Method')\n",
    "plt.xlabel('Number of clusters')\n",
    "plt.ylabel('WCSS')\n",
    "plt.show()"
   ]
  },
  {
   "cell_type": "markdown",
   "id": "ab8d99c2",
   "metadata": {},
   "source": [
    "# The scree plot levels off at k=4 and let's use it to determine the clusters"
   ]
  },
  {
   "cell_type": "markdown",
   "id": "312c6474",
   "metadata": {},
   "source": [
    "# Analysing the data"
   ]
  },
  {
   "cell_type": "code",
   "execution_count": null,
   "id": "f081f8a6",
   "metadata": {},
   "outputs": [],
   "source": [
    "kmeans = KMeans(n_clusters = 4, init = 'k-means++', random_state = 42)\n",
    "y_kmeans = kmeans.fit_predict(df1_norm)"
   ]
  },
  {
   "cell_type": "code",
   "execution_count": null,
   "id": "c2da8a53",
   "metadata": {},
   "outputs": [],
   "source": [
    "y_kmeans"
   ]
  },
  {
   "cell_type": "code",
   "execution_count": null,
   "id": "ea27b873",
   "metadata": {},
   "outputs": [],
   "source": [
    "y_kmeans1=y_kmeans+1\n",
    "cluster = list(y_kmeans1)"
   ]
  },
  {
   "cell_type": "code",
   "execution_count": null,
   "id": "69f2094a",
   "metadata": {},
   "outputs": [],
   "source": [
    "df1['cluster'] = cluster"
   ]
  },
  {
   "cell_type": "code",
   "execution_count": null,
   "id": "7fd81777",
   "metadata": {},
   "outputs": [],
   "source": [
    "kmeans_mean_cluster = pd.DataFrame(round(df1.groupby('cluster').mean(),1))\n",
    "kmeans_mean_cluster"
   ]
  },
  {
   "cell_type": "code",
   "execution_count": null,
   "id": "d1452a89",
   "metadata": {},
   "outputs": [],
   "source": [
    "plt.figure(figsize=(12,6))\n",
    "sns.scatterplot(x=df1['Murder'], y = df1['Assault'],hue=y_kmeans1)"
   ]
  },
  {
   "cell_type": "code",
   "execution_count": null,
   "id": "2666a284",
   "metadata": {},
   "outputs": [],
   "source": [
    "plt.figure(figsize=(12,6))\n",
    "sns.scatterplot(x=df1['Murder'], y = df1['Rape'],hue=y_kmeans1)"
   ]
  },
  {
   "cell_type": "code",
   "execution_count": null,
   "id": "25396673",
   "metadata": {},
   "outputs": [],
   "source": [
    "plt.figure(figsize=(12,6))\n",
    "sns.scatterplot(x=df1['Rape'], y = df1['Assault'],hue=y_kmeans1)"
   ]
  },
  {
   "cell_type": "code",
   "execution_count": null,
   "id": "db1f9a02",
   "metadata": {},
   "outputs": [],
   "source": [
    "stats = df1.sort_values(\"Total\", ascending=True)\n",
    "df1_total= pd.DataFrame(stats)"
   ]
  },
  {
   "cell_type": "code",
   "execution_count": null,
   "id": "145e53b7",
   "metadata": {},
   "outputs": [],
   "source": [
    "df1_total.head()"
   ]
  },
  {
   "cell_type": "markdown",
   "id": "b78eb81d",
   "metadata": {},
   "source": [
    "# Conclusion\n",
    "1 - Analysing Murder and Assault variables shows a clearer connection between them. Higher the murder rates in a city higer the assaults and vice versa\n",
    "\n",
    "2 = Contrary to murders and assaults, there is much more spread among the clusters when comparing murders and rapes. Some correlation is visible, but low murder rates in a city seem to indicate lower number of rapes and vice versa\n",
    "\n",
    "3 - As with murder and assault, also rates of rape and assault show clearer correlations"
   ]
  },
  {
   "cell_type": "code",
   "execution_count": null,
   "id": "3df5f5ee",
   "metadata": {},
   "outputs": [],
   "source": []
  }
 ],
 "metadata": {
  "kernelspec": {
   "display_name": "Python 3 (ipykernel)",
   "language": "python",
   "name": "python3"
  },
  "language_info": {
   "codemirror_mode": {
    "name": "ipython",
    "version": 3
   },
   "file_extension": ".py",
   "mimetype": "text/x-python",
   "name": "python",
   "nbconvert_exporter": "python",
   "pygments_lexer": "ipython3",
   "version": "3.9.12"
  }
 },
 "nbformat": 4,
 "nbformat_minor": 5
}
